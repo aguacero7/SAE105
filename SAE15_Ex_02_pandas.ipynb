{
 "cells": [
  {
   "cell_type": "markdown",
   "id": "04db1ba1",
   "metadata": {},
   "source": [
    "# Exercices 2 : Gérer des données\n",
    "\n",
    "_pandas_\n",
    "\n",
    "Documentation :\n",
    "\n",
    "https://pandas.pydata.org/docs/user_guide/index.html\n",
    "\n",
    "Des liens utiles :\n",
    "\n",
    "https://datatofish.com/python-tutorials/\n",
    "\n",
    "https://www.datacamp.com/community/tutorials/pandas-tutorial-dataframe-python"
   ]
  },
  {
   "cell_type": "markdown",
   "id": "d62d77b4",
   "metadata": {},
   "source": [
    "## Ex 2.0 : Introduction à Pandas\n",
    "\n",
    "### 1 : DataFrame : Généralités\n",
    "\n",
    "L'objet DataFrame sera un tableau de données que l'on peut initialiser avec un dictionnaire de listes par exemple.\n",
    "\n",
    "``` d = {\"one\": [1.0, 2.0, 3.0, 4.0], \"two\": [4.0, 3.0, 2.0, 1.0]} #dictionnaire ```\n",
    "\n",
    "Donne alors si on l'affiche avec ``` pd.DataFrame(d) ``` (retourne un objet DataFrame)\n",
    "```\n",
    "   one  two\n",
    "0  1.0  4.0\n",
    "1  2.0  3.0\n",
    "2  3.0  2.0\n",
    "3  4.0  1.0\n",
    "```\n",
    "\n",
    "Vous pouvez afficher les n premières lignes avec la méthode ``` dafaframe.head(2) ``` qui par exemple ne conservera que les deux premières lignes.\n",
    "\n",
    "### 2 : iloc - L'accès à une sous-partie des données\n",
    "\n",
    "Source dans la doc : https://pandas.pydata.org/docs/reference/api/pandas.DataFrame.iloc.html\n",
    "\n",
    "Le code suivant effectue les tâches :\n",
    "\n",
    "1. Il crée la dataframe df à partir du dictionnaire d (généré à partir des noms de colonne et du module random)\n",
    "2. Puis il extrait seulement les lignes de 1 et 2 et les affiche.\n",
    "3. Il extrait ensuite les lignes 1, 3 et 5\n",
    "4. Il ajoute la colonne nommée \"six\"\n",
    "5. Il affiche les lignes de 0 à 5 (exclu) des colonnes 'trois' et 'quatre'\n",
    "6. Il convertit les données en entiers\n",
    "\n",
    "***Vos actions :***\n",
    "1. Extrayez les colonnes 'un' et 'deux' et affichez-les (deux méthodes existent, avec iloc ou sans)\n",
    "2. Remplacez la colonne \"trois\" par la série [1, 2, 3, 4, 5, 6, 7, 8, 9, 10]\n",
    "3. Affichez les 5 premières lignes des colonnes \"deux\", \"quatre\" et \"six\""
   ]
  },
  {
   "cell_type": "code",
   "execution_count": null,
   "id": "60871bf3",
   "metadata": {},
   "outputs": [],
   "source": [
    "import pandas as pd\n",
    "import random as rd\n",
    "colonnes = ['un', 'deux', 'trois', 'quatre', 'cinq']\n",
    "d = { col: [round(rd.random()*5,1) for _ in range(10)] for col in colonnes } #dictionnaire\n",
    "df = pd.DataFrame(d) #création d'un dataframe\n",
    "print(df)\n",
    "\n",
    "# lignes 1 et 2\n",
    "new_df = df.iloc[1:3]\n",
    "print(new_df)\n",
    "# lignes 1 et 3 et 5\n",
    "new_df = df.iloc[[1, 3, 5]]\n",
    "print(new_df)\n",
    "# colonne 6 ajoutée\n",
    "df[\"six\"] = [1, 2, 3, 4, 5, 6, 7, 8, 9, 10]\n",
    "print(df)\n",
    "# prend lignes 0 à 5 pour colonnes trois et quatre\n",
    "new_df = df.iloc[0:5, 2:4]\n",
    "print(new_df)\n",
    "# conversion de type\n",
    "print(df.astype(int))\n",
    "\n",
    "\n",
    "# A Faire"
   ]
  },
  {
   "cell_type": "markdown",
   "id": "7ece7d7b",
   "metadata": {},
   "source": [
    "## Ex 2.1 : Librairie pandas\n",
    "\n",
    "_importer avec alias_\n",
    "\n",
    "Importez la librairie pandas, sous le nom pd, puis avec les méthodes vues précédemment, chargez le contenu de l'adresse http://www.tennis-data.co.uk/2021/2021.xlsx dans une variable reponse.\n",
    "\n",
    "C'est un fichier de données au format Excel, mais pandas permet de le lire avec l'ordre ```pd.read_excel(reponse.content)``` qui retourne un objet du type DataFrame.\n",
    "Stockez cet objet dans une variable \"stats\"\n",
    "\n",
    "Récupérez les 10 premières lignes de ce fichier à l'aide de la commande ```stats.head(10)```, puis affichez-les\n"
   ]
  },
  {
   "cell_type": "code",
   "execution_count": 3,
   "id": "1bfd00c2",
   "metadata": {},
   "outputs": [
    {
     "name": "stdout",
     "output_type": "stream",
     "text": [
      "   ATP Location    Tournament       Date  Series   Court Surface      Round  \\\n",
      "0    1  Antalya  Antalya Open 2021-01-07  ATP250  Indoor    Hard  1st Round   \n",
      "1    1  Antalya  Antalya Open 2021-01-07  ATP250  Indoor    Hard  1st Round   \n",
      "2    1  Antalya  Antalya Open 2021-01-07  ATP250  Indoor    Hard  1st Round   \n",
      "3    1  Antalya  Antalya Open 2021-01-07  ATP250  Indoor    Hard  1st Round   \n",
      "4    1  Antalya  Antalya Open 2021-01-07  ATP250  Indoor    Hard  1st Round   \n",
      "5    1  Antalya  Antalya Open 2021-01-07  ATP250  Indoor    Hard  1st Round   \n",
      "6    1  Antalya  Antalya Open 2021-01-08  ATP250  Indoor    Hard  1st Round   \n",
      "7    1  Antalya  Antalya Open 2021-01-08  ATP250  Indoor    Hard  1st Round   \n",
      "8    1  Antalya  Antalya Open 2021-01-08  ATP250  Indoor    Hard  1st Round   \n",
      "9    1  Antalya  Antalya Open 2021-01-08  ATP250  Indoor    Hard  1st Round   \n",
      "\n",
      "   Best of           Winner  ... Lsets    Comment  B365W  B365L   PSW   PSL  \\\n",
      "0        3  Basilashvili N.  ...   1.0  Completed   1.50   2.50  1.61  2.44   \n",
      "1        3    Celikbilek A.  ...   0.0  Completed   2.50   1.50  2.63  1.54   \n",
      "2        3    Ruusuvuori E.  ...   0.0  Completed   1.50   2.50  1.56  2.58   \n",
      "3        3        Bublik A.  ...   0.0  Completed   1.61   2.20  1.81  2.09   \n",
      "4        3        Goffin D.  ...   1.0  Completed   1.40   2.75  1.46  2.92   \n",
      "5        3     Travaglia S.  ...   1.0  Completed   2.62   1.44  2.80  1.49   \n",
      "6        3      Struff J.L.  ...   0.0  Completed   1.22   4.00  1.24  4.44   \n",
      "7        3      Lamasine T.  ...   0.0  Completed   5.00   1.16  5.74  1.17   \n",
      "8        3       Andreev A.  ...   0.0  Completed   1.20   4.33  1.24  4.53   \n",
      "9        3       Grenier H.  ...   0.0  Completed   1.80   1.90  2.00  1.89   \n",
      "\n",
      "   MaxW  MaxL  AvgW  AvgL  \n",
      "0  1.67  2.56  1.56  2.42  \n",
      "1  2.70  1.55  2.57  1.50  \n",
      "2  1.63  3.03  1.52  2.53  \n",
      "3  1.87  2.30  1.72  2.11  \n",
      "4  1.50  3.00  1.44  2.78  \n",
      "5  2.85  1.50  2.71  1.45  \n",
      "6  1.27  4.60  1.22  4.16  \n",
      "7  5.74  1.22  5.12  1.16  \n",
      "8  1.25  4.65  1.22  4.24  \n",
      "9  2.05  2.00  1.87  1.92  \n",
      "\n",
      "[10 rows x 36 columns]\n"
     ]
    }
   ],
   "source": [
    "import requests as rq\n",
    "import pandas as pd # pour pandas\n",
    "reponse = rq.get(\"http://www.tennis-data.co.uk/2021/2021.xlsx\")# récupération de la réponse avec rq.get\n",
    "# suite à la réponse, on récupère le contenu de la réponse et ouverture dans pandas du fichier Excel\n",
    "stats=pd.read_excel(reponse.content)\n",
    "print(stats.head(10))"
   ]
  },
  {
   "cell_type": "markdown",
   "id": "44d0fa0a",
   "metadata": {},
   "source": []
  },
  {
   "cell_type": "markdown",
   "id": "a4252bc9",
   "metadata": {},
   "source": [
    "## Ex 2.2 : Filtrer des données\n",
    "\n",
    "Les possibilités de pandas sont innombrables, effectuez les actions suivantes dans le script ci-dessous :\n",
    "\n",
    "1. Téléchargez le fichier et enregistrez-le dans un fichier nommé \"pokemon.csv\" (par exemple avec la librairie requests)\n",
    "1. Ajoutez une fonction qui vérifiera la présence ou non du fichier \"pokemon.csv\" avant de télécharger celui-ci. S'il n'est pas présent on télécharge s'il est présent on ouvre le fichier. Rappel : importez le module \"os\" et pour tester la présence d'un fichier c'est  \n",
    "\n",
    "        os.path.isfile(\"chemin/monfichier\")\n",
    "\n",
    "1. Mettez la base de données dans la variable pokemon comme ceci : ```pokemon = pd.read_csv(\"pokemon.csv\")``` \n",
    "    en cas de problème d'encodage ('utf-8'), utilisez pandas.read_csv sur le fichier *monfichier* avec l'argument kwarg (kwarg : KeyWordARGument)  \n",
    "    ``` \n",
    "    encoding_errors=\"ignore\" \n",
    "    ```\n",
    "1. Combien y a-t-il de pokemons dans cette base de données ? ```len(pokemon.index)``` permet de répondre à cette question.\n",
    "1. Quelle est leur valeur de défense moyenne ? En attaque ? Vous pouvez obtenir une moyenne directement en faisant ```pokemon.Defense.mean()```\n",
    "1. Filtrer une dataframe : par exemple si vous voulez le nom et la vitesse des pokemons de type \"Dragon\", vous écrirez :\n",
    "    ```\n",
    "    print(pokemon[pokemon.Type == \"Dragon\"][[\"Name\", \"Speed\"]])\n",
    "    ```\n",
    "    Sortez la liste des noms et attaque des 15 premiers pokemons dont l'attaque est supérieure à la défense\n",
    "1. Sur ces derniers, combien ont-ils de points de vie en moyenne ? Et combien sont-ils ?  \n",
    "    Pour arrondir une valeur obtenue, utilisez l'un des deux :  \n",
    "    ``` \n",
    "    int(variable)\n",
    "    round(variable, nbdecimales) \n",
    "    ```"
   ]
  },
  {
   "cell_type": "code",
   "execution_count": 15,
   "id": "ba6b1dd0",
   "metadata": {
    "jupyter": {
     "outputs_hidden": true
    },
    "tags": []
   },
   "outputs": [
    {
     "name": "stdout",
     "output_type": "stream",
     "text": [
      "nb pokemons  778\n",
      "défense moyenn des pokemons 72.97 \n",
      " Attaque moyenne :  78 2\n",
      "Noms et Attack des pokemons qui ont lattaque plus gros que la defene;  :\n",
      "                 Name  Defense  Attack  Health Points\n",
      "4         Charmander       43      52             39\n",
      "5         Charmeleon       58      64             58\n",
      "6          Charizard       78      84             78\n",
      "7   Mega Charizard X      111     130             78\n",
      "8   Mega Charizard Y       78     104             78\n",
      "16            Weedle       30      35             40\n",
      "18          Beedrill       40      90             65\n",
      "19            Pidgey       40      45             40\n",
      "20         Pidgeotto       55      60             63\n",
      "21           Pidgeot       75      80             83\n",
      "22           Rattata       35      56             30\n",
      "23          Raticate       60      81             55\n",
      "24           Spearow       30      60             40\n",
      "25            Fearow       65      90             65\n",
      "26             Ekans       44      60             35\n"
     ]
    },
    {
     "ename": "AttributeError",
     "evalue": "'DataFrame' object has no attribute 'HealthPoints'",
     "output_type": "error",
     "traceback": [
      "\u001b[0;31m---------------------------------------------------------------------------\u001b[0m",
      "\u001b[0;31mAttributeError\u001b[0m                            Traceback (most recent call last)",
      "Input \u001b[0;32mIn [15]\u001b[0m, in \u001b[0;36m<cell line: 17>\u001b[0;34m()\u001b[0m\n\u001b[1;32m     21\u001b[0m firsts\u001b[38;5;241m=\u001b[39mpokemons[pokemons\u001b[38;5;241m.\u001b[39mAttack\u001b[38;5;241m>\u001b[39mpokemons\u001b[38;5;241m.\u001b[39mDefense][[\u001b[38;5;124m'\u001b[39m\u001b[38;5;124mName\u001b[39m\u001b[38;5;124m'\u001b[39m,\u001b[38;5;124m'\u001b[39m\u001b[38;5;124mDefense\u001b[39m\u001b[38;5;124m'\u001b[39m,\u001b[38;5;124m'\u001b[39m\u001b[38;5;124mAttack\u001b[39m\u001b[38;5;124m'\u001b[39m,\u001b[38;5;124m'\u001b[39m\u001b[38;5;124mHealth Points\u001b[39m\u001b[38;5;124m'\u001b[39m]][:\u001b[38;5;241m15\u001b[39m]\n\u001b[1;32m     22\u001b[0m \u001b[38;5;28mprint\u001b[39m(\u001b[38;5;124m\"\u001b[39m\u001b[38;5;124mNoms et Attack des pokemons qui ont lattaque plus gros que la defene;  :\u001b[39m\u001b[38;5;130;01m\\n\u001b[39;00m\u001b[38;5;124m\"\u001b[39m,firsts)\n\u001b[0;32m---> 24\u001b[0m \u001b[38;5;28mprint\u001b[39m(\u001b[38;5;124m\"\u001b[39m\u001b[38;5;124mmoyenne de leurs PV: \u001b[39m\u001b[38;5;124m\"\u001b[39m,\u001b[38;5;28mround\u001b[39m(\u001b[43mfirsts\u001b[49m\u001b[38;5;241;43m.\u001b[39;49m\u001b[43mHealthPoints\u001b[49m\u001b[38;5;241m.\u001b[39mmean(),\u001b[38;5;241m2\u001b[39m))\n",
      "File \u001b[0;32m/opt/anaconda3/lib/python3.9/site-packages/pandas/core/generic.py:5575\u001b[0m, in \u001b[0;36mNDFrame.__getattr__\u001b[0;34m(self, name)\u001b[0m\n\u001b[1;32m   5568\u001b[0m \u001b[38;5;28;01mif\u001b[39;00m (\n\u001b[1;32m   5569\u001b[0m     name \u001b[38;5;129;01mnot\u001b[39;00m \u001b[38;5;129;01min\u001b[39;00m \u001b[38;5;28mself\u001b[39m\u001b[38;5;241m.\u001b[39m_internal_names_set\n\u001b[1;32m   5570\u001b[0m     \u001b[38;5;129;01mand\u001b[39;00m name \u001b[38;5;129;01mnot\u001b[39;00m \u001b[38;5;129;01min\u001b[39;00m \u001b[38;5;28mself\u001b[39m\u001b[38;5;241m.\u001b[39m_metadata\n\u001b[1;32m   5571\u001b[0m     \u001b[38;5;129;01mand\u001b[39;00m name \u001b[38;5;129;01mnot\u001b[39;00m \u001b[38;5;129;01min\u001b[39;00m \u001b[38;5;28mself\u001b[39m\u001b[38;5;241m.\u001b[39m_accessors\n\u001b[1;32m   5572\u001b[0m     \u001b[38;5;129;01mand\u001b[39;00m \u001b[38;5;28mself\u001b[39m\u001b[38;5;241m.\u001b[39m_info_axis\u001b[38;5;241m.\u001b[39m_can_hold_identifiers_and_holds_name(name)\n\u001b[1;32m   5573\u001b[0m ):\n\u001b[1;32m   5574\u001b[0m     \u001b[38;5;28;01mreturn\u001b[39;00m \u001b[38;5;28mself\u001b[39m[name]\n\u001b[0;32m-> 5575\u001b[0m \u001b[38;5;28;01mreturn\u001b[39;00m \u001b[38;5;28;43mobject\u001b[39;49m\u001b[38;5;241;43m.\u001b[39;49m\u001b[38;5;21;43m__getattribute__\u001b[39;49m\u001b[43m(\u001b[49m\u001b[38;5;28;43mself\u001b[39;49m\u001b[43m,\u001b[49m\u001b[43m \u001b[49m\u001b[43mname\u001b[49m\u001b[43m)\u001b[49m\n",
      "\u001b[0;31mAttributeError\u001b[0m: 'DataFrame' object has no attribute 'HealthPoints'"
     ]
    }
   ],
   "source": [
    "# coding: utf-8\n",
    "import os\n",
    "import pandas as pd\n",
    "import requests as rq\n",
    "\n",
    "def isFile(path):\n",
    "    if(os.path.isfile(\"pokemon.csv\")):\n",
    "        return True\n",
    "    else:\n",
    "        return False\n",
    "\n",
    "poke=rq.get(\"http://srea64.github.io/msan622/project/pokemon.csv\")\n",
    "f=open(\"pokemon.csv\",\"w\")\n",
    "f.write(poke.text)\n",
    "f.close()\n",
    "\n",
    "if(isFile(\"pokemon.csv\")):\n",
    "    pokemons=pd.read_csv(\"pokemon.csv\")\n",
    "    print(\"nb pokemons \",len(pokemons))\n",
    "    print(\"défense moyenn des pokemons\",\"%.2f\"%pokemons.Defense.mean(),\"\\n Attaque moyenne : \",round(pokemons.Attack.mean()),2)\n",
    "    firsts=pokemons[pokemons.Attack>pokemons.Defense][['Name','Defense','Attack','Health Points']][:15]\n",
    "    print(\"Noms et Attack des pokemons qui ont lattaque plus gros que la defene;  :\\n\",firsts)\n",
    "    "
   ]
  },
  {
   "cell_type": "markdown",
   "id": "bd18ba5d-647b-4691-87bf-5a4662b2e720",
   "metadata": {},
   "source": [
    "## Ex 2.3 : traiter les données\n",
    "\n",
    "Pour traiter les données, nous aurons besoin de créer des DataFrame spécifiques, en filtrant la table des données.  \n",
    "\n",
    "On va dénombrer combien de Pokémons de chaque génération a une attaque supérieure ou égale à 80.\n",
    "\n",
    "1. Créez deux listes de valeurs : une liste des générations nommées \"G 1\", \"G 2\" etc. de 1 à 6, et avec une boucle sur **generation** allant de 1 à 6, comptez le nombre de pokemon dont l'attaque est supérieure ou égale à 80 pour la génération **generation** et faites-en une liste de 6 entiers.\n",
    "    Vous appellerez par exemple ```tab_id``` et ```tab_nb``` ces deux listes.\n",
    "    Et pour compter on peut\n",
    "    1. Obtenir la longueur de la liste d'index de la dataframe filtrée sur ```(pokemon.Attack >= 80) & (pokemon.Generation == i)``` (remarquez le \"&\" pour combiner deux conditions)\n",
    "    1. Redéfinir les Pokémons dont l'attaque est >= 80 dans une nouvelle DataFrame ```big_pok``` par exemple et appliquer la méthode ```value_counts(\"Generation\")``` qui va compter les occurrences de chaque valeur du champ \"Generation\" et mettre tout ça dans un tableau.\n",
    "        Mais comme le tableau renvoyé est trié par ordre de compte décroissant on voudra alors le retrier par ordre des index croissant en faisant :\n",
    "        ```\n",
    "        big_pok.value_counts(\"Generation\").sort_index()\n",
    "        ```\n",
    "1. Recréer une nouvelle DataFrame ```new_df``` avec les deux colonnes : ```generation``` et ```nbPokemon```\n",
    "1. Afficher directement un graphique en barre pour mettre ces stats en valeur en faisant :\n",
    "    ```\n",
    "    new_df.plot.bar(x=\"generation\", y=\"nbPokemon\", rot=0, title=\"Nombre de pokemons avec attaque supérieure à 80 par génération\")\n",
    "    ```\n",
    "\n",
    "Exemple de graph à obtenir :  \n",
    "\n",
    "\n",
    "![graph en barre](exBar.png)\n",
    "\n"
   ]
  },
  {
   "cell_type": "code",
   "execution_count": 37,
   "id": "239796d4-a622-4d7d-902c-836558f1685d",
   "metadata": {},
   "outputs": [
    {
     "data": {
      "image/png": "[encoded data removed]",
      "text/plain": [
       "<Figure size 432x288 with 1 Axes>"
      ]
     },
     "metadata": {
      "needs_background": "light"
     },
     "output_type": "display_data"
    }
   ],
   "source": [
    "# coding: utf-8\n",
    "# votre script ici\n"
   ]
  },
  {
   "cell_type": "markdown",
   "id": "77059d9d-171d-4ca2-925b-5a2cd6a41dae",
   "metadata": {},
   "source": [
    "## Ex 2.4 : Tableau croisé (pivot_table)\n",
    "\n",
    "Lorsque l'on veut exploiter des données complexes, on peut être amené à exprimer certaines données en fonction des autres au sein du même tableau.  \n",
    "Par exemple pour refaire l'exemple précédent, il \"suffirait\" de dire qu'on veut mettre la Génération en index et dans une colonne appelée 'nbPok' (par exemple) le nombre de pokemons correspondant.  \n",
    "Ce qu'on pourrait simplement faire avec :  \n",
    "``` pivot_table(index='Colonne_à_utiliser_en_index', values='Le_champ_sur_lequel_compter', aggfunc='fonction_à_utiliser') ```  \n",
    "\n",
    "Les fonctions (keyword argument : aggfunc) les plus usuelles seront :  \n",
    "``` count / sum / mean / max / min / rank ... ```  \n",
    "\n",
    "Ici on utilisera simplement \"count\" sur n'importe quel champ pour compter combien il y a de pokemons\n",
    "\n",
    "Reprenez le code donné en exemple pour :\n",
    "1. Afficher le graphique de la moyenne en attaque des Pokémons par génération\n",
    "1. Afficher le graphique avec deux barres : moyenne en attaque et moyenne en défense par génération\n",
    "1. Afficher l'attaque moyenne par 'Type' de Pokémon \n",
    "    On ne gardera que le premier Type du Pokémon, pour cela on va \"parser\" le type, et garder le premier mot uniquement (mis en format Capital : première lettre en majuscule)\n",
    "    \n",
    "    Pour cela on peut redéfinir la colonne \"Type\" de la Dataframe :\n",
    "    ```\n",
    "    pokemon['Type'] = pokemon['Type'].str.split(' ').str[0].str.capitalize()\n",
    "    ```"
   ]
  },
  {
   "cell_type": "code",
   "execution_count": 1,
   "id": "78f699e7-3efd-4987-b8b6-23fe01c965f0",
   "metadata": {},
   "outputs": [
    {
     "name": "stdout",
     "output_type": "stream",
     "text": [
      "            Name\n",
      "Generation      \n",
      "1             76\n",
      "2             44\n",
      "3             63\n",
      "4             62\n",
      "5             83\n",
      "6             30\n"
     ]
    },
    {
     "data": {
      "text/plain": [
       "<AxesSubplot:title={'center':'Nombre de pokemons avec attaque supérieure à 80 par génération'}, xlabel='Generation'>"
      ]
     },
     "execution_count": 1,
     "metadata": {},
     "output_type": "execute_result"
    },
    {
     "data": {
      "image/png": "[encoded data removed]",
      "text/plain": [
       "<Figure size 432x288 with 1 Axes>"
      ]
     },
     "metadata": {
      "needs_background": "light"
     },
     "output_type": "display_data"
    }
   ],
   "source": [
    "# coding: utf-8\n",
    "# script à continuer\n",
    "import pandas as pd\n",
    "\n",
    "# pokemon est lu depuis le fichier\n",
    "pokemon = pd.read_csv(\"pokemon.csv\")\n",
    "# création du tableau croisé\n",
    "pokCount = pokemon[pokemon.Attack >= 80].pivot_table(index='Generation', values='Name', aggfunc='count')\n",
    "print(pokCount)\n",
    "pokCount.plot.bar(title=\"Nombre de pokemons avec attaque supérieure à 80 par génération\", rot=0)\n",
    "\n",
    "# ---------------------------- A compléter ----------------------------\n",
    "\n"
   ]
  },
  {
   "cell_type": "code",
   "execution_count": null,
   "id": "353f1e88-bc0e-457d-9941-7dece78955f1",
   "metadata": {},
   "outputs": [],
   "source": []
  }
 ],
 "metadata": {
  "kernelspec": {
   "display_name": "Python 3 (ipykernel)",
   "language": "python",
   "name": "python3"
  },
  "language_info": {
   "codemirror_mode": {
    "name": "ipython",
    "version": 3
   },
   "file_extension": ".py",
   "mimetype": "text/x-python",
   "name": "python",
   "nbconvert_exporter": "python",
   "pygments_lexer": "ipython3",
   "version": "3.9.13"
  },
  "vscode": {
   "interpreter": {
    "hash": "f82454df3ab4669350e470cecfad51160e6fdff8e76eafd19d8880dd92d922a3"
   }
  }
 },
 "nbformat": 4,
 "nbformat_minor": 5
}
